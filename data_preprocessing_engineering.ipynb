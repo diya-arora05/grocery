{
 "cells": [
  {
   "cell_type": "code",
   "execution_count": 1,
   "id": "d05314d6-5bc5-4cb3-b272-668e62bcf619",
   "metadata": {},
   "outputs": [
    {
     "data": {
      "text/html": [
       "<div>\n",
       "<style scoped>\n",
       "    .dataframe tbody tr th:only-of-type {\n",
       "        vertical-align: middle;\n",
       "    }\n",
       "\n",
       "    .dataframe tbody tr th {\n",
       "        vertical-align: top;\n",
       "    }\n",
       "\n",
       "    .dataframe thead th {\n",
       "        text-align: right;\n",
       "    }\n",
       "</style>\n",
       "<table border=\"1\" class=\"dataframe\">\n",
       "  <thead>\n",
       "    <tr style=\"text-align: right;\">\n",
       "      <th></th>\n",
       "      <th>Product_ID</th>\n",
       "      <th>Product_Name</th>\n",
       "      <th>Catagory</th>\n",
       "      <th>Supplier_ID</th>\n",
       "      <th>Supplier_Name</th>\n",
       "      <th>Stock_Quantity</th>\n",
       "      <th>Reorder_Level</th>\n",
       "      <th>Reorder_Quantity</th>\n",
       "      <th>Unit_Price</th>\n",
       "      <th>Date_Received</th>\n",
       "      <th>Last_Order_Date</th>\n",
       "      <th>Expiration_Date</th>\n",
       "      <th>Warehouse_Location</th>\n",
       "      <th>Sales_Volume</th>\n",
       "      <th>Inventory_Turnover_Rate</th>\n",
       "      <th>Status</th>\n",
       "    </tr>\n",
       "  </thead>\n",
       "  <tbody>\n",
       "    <tr>\n",
       "      <th>0</th>\n",
       "      <td>29-205-1132</td>\n",
       "      <td>Sushi Rice</td>\n",
       "      <td>Grains &amp; Pulses</td>\n",
       "      <td>38-037-1699</td>\n",
       "      <td>Jaxnation</td>\n",
       "      <td>22</td>\n",
       "      <td>72</td>\n",
       "      <td>70</td>\n",
       "      <td>$4.50</td>\n",
       "      <td>8/16/2024</td>\n",
       "      <td>6/29/2024</td>\n",
       "      <td>9/19/2024</td>\n",
       "      <td>48 Del Sol Trail</td>\n",
       "      <td>32</td>\n",
       "      <td>19</td>\n",
       "      <td>Discontinued</td>\n",
       "    </tr>\n",
       "    <tr>\n",
       "      <th>1</th>\n",
       "      <td>40-681-9981</td>\n",
       "      <td>Arabica Coffee</td>\n",
       "      <td>Beverages</td>\n",
       "      <td>54-470-2479</td>\n",
       "      <td>Feedmix</td>\n",
       "      <td>45</td>\n",
       "      <td>77</td>\n",
       "      <td>2</td>\n",
       "      <td>$20.00</td>\n",
       "      <td>11/1/2024</td>\n",
       "      <td>5/29/2024</td>\n",
       "      <td>5/8/2024</td>\n",
       "      <td>36 3rd Place</td>\n",
       "      <td>85</td>\n",
       "      <td>1</td>\n",
       "      <td>Discontinued</td>\n",
       "    </tr>\n",
       "    <tr>\n",
       "      <th>2</th>\n",
       "      <td>06-955-3428</td>\n",
       "      <td>Black Rice</td>\n",
       "      <td>Grains &amp; Pulses</td>\n",
       "      <td>54-031-2945</td>\n",
       "      <td>Vinder</td>\n",
       "      <td>30</td>\n",
       "      <td>38</td>\n",
       "      <td>83</td>\n",
       "      <td>$6.00</td>\n",
       "      <td>8/3/2024</td>\n",
       "      <td>6/10/2024</td>\n",
       "      <td>9/22/2024</td>\n",
       "      <td>3296 Walton Court</td>\n",
       "      <td>31</td>\n",
       "      <td>34</td>\n",
       "      <td>Backordered</td>\n",
       "    </tr>\n",
       "    <tr>\n",
       "      <th>3</th>\n",
       "      <td>71-594-6552</td>\n",
       "      <td>Long Grain Rice</td>\n",
       "      <td>Grains &amp; Pulses</td>\n",
       "      <td>63-492-7603</td>\n",
       "      <td>Brightbean</td>\n",
       "      <td>12</td>\n",
       "      <td>59</td>\n",
       "      <td>62</td>\n",
       "      <td>$1.50</td>\n",
       "      <td>12/8/2024</td>\n",
       "      <td>2/19/2025</td>\n",
       "      <td>4/17/2024</td>\n",
       "      <td>3 Westerfield Crossing</td>\n",
       "      <td>95</td>\n",
       "      <td>99</td>\n",
       "      <td>Active</td>\n",
       "    </tr>\n",
       "    <tr>\n",
       "      <th>4</th>\n",
       "      <td>57-437-1828</td>\n",
       "      <td>Plum</td>\n",
       "      <td>Fruits &amp; Vegetables</td>\n",
       "      <td>54-226-4308</td>\n",
       "      <td>Topicstorm</td>\n",
       "      <td>37</td>\n",
       "      <td>30</td>\n",
       "      <td>74</td>\n",
       "      <td>$4.00</td>\n",
       "      <td>7/3/2024</td>\n",
       "      <td>10/11/2024</td>\n",
       "      <td>10/5/2024</td>\n",
       "      <td>15068 Scoville Court</td>\n",
       "      <td>62</td>\n",
       "      <td>25</td>\n",
       "      <td>Backordered</td>\n",
       "    </tr>\n",
       "  </tbody>\n",
       "</table>\n",
       "</div>"
      ],
      "text/plain": [
       "    Product_ID     Product_Name             Catagory  Supplier_ID  \\\n",
       "0  29-205-1132       Sushi Rice      Grains & Pulses  38-037-1699   \n",
       "1  40-681-9981   Arabica Coffee            Beverages  54-470-2479   \n",
       "2  06-955-3428       Black Rice      Grains & Pulses  54-031-2945   \n",
       "3  71-594-6552  Long Grain Rice      Grains & Pulses  63-492-7603   \n",
       "4  57-437-1828             Plum  Fruits & Vegetables  54-226-4308   \n",
       "\n",
       "  Supplier_Name  Stock_Quantity  Reorder_Level  Reorder_Quantity Unit_Price  \\\n",
       "0     Jaxnation              22             72                70     $4.50    \n",
       "1       Feedmix              45             77                 2    $20.00    \n",
       "2        Vinder              30             38                83     $6.00    \n",
       "3    Brightbean              12             59                62     $1.50    \n",
       "4    Topicstorm              37             30                74     $4.00    \n",
       "\n",
       "  Date_Received Last_Order_Date Expiration_Date      Warehouse_Location  \\\n",
       "0     8/16/2024       6/29/2024       9/19/2024        48 Del Sol Trail   \n",
       "1     11/1/2024       5/29/2024        5/8/2024            36 3rd Place   \n",
       "2      8/3/2024       6/10/2024       9/22/2024       3296 Walton Court   \n",
       "3     12/8/2024       2/19/2025       4/17/2024  3 Westerfield Crossing   \n",
       "4      7/3/2024      10/11/2024       10/5/2024    15068 Scoville Court   \n",
       "\n",
       "   Sales_Volume  Inventory_Turnover_Rate        Status  \n",
       "0            32                       19  Discontinued  \n",
       "1            85                        1  Discontinued  \n",
       "2            31                       34   Backordered  \n",
       "3            95                       99        Active  \n",
       "4            62                       25   Backordered  "
      ]
     },
     "execution_count": 1,
     "metadata": {},
     "output_type": "execute_result"
    }
   ],
   "source": [
    "import pandas as pd\n",
    "df = pd.read_csv(\"Grocery_Inventory_and_Sales_Dataset.csv\")\n",
    "df.head()\n",
    "\n"
   ]
  },
  {
   "cell_type": "code",
   "execution_count": 2,
   "id": "f012e927-b4a2-4a65-b35b-b1145ef8de60",
   "metadata": {},
   "outputs": [
    {
     "data": {
      "text/html": [
       "<div>\n",
       "<style scoped>\n",
       "    .dataframe tbody tr th:only-of-type {\n",
       "        vertical-align: middle;\n",
       "    }\n",
       "\n",
       "    .dataframe tbody tr th {\n",
       "        vertical-align: top;\n",
       "    }\n",
       "\n",
       "    .dataframe thead th {\n",
       "        text-align: right;\n",
       "    }\n",
       "</style>\n",
       "<table border=\"1\" class=\"dataframe\">\n",
       "  <thead>\n",
       "    <tr style=\"text-align: right;\">\n",
       "      <th></th>\n",
       "      <th>Date_Received</th>\n",
       "      <th>Expiration_Date</th>\n",
       "    </tr>\n",
       "  </thead>\n",
       "  <tbody>\n",
       "    <tr>\n",
       "      <th>0</th>\n",
       "      <td>2024-08-16</td>\n",
       "      <td>2024-09-19</td>\n",
       "    </tr>\n",
       "    <tr>\n",
       "      <th>1</th>\n",
       "      <td>2024-11-01</td>\n",
       "      <td>2024-05-08</td>\n",
       "    </tr>\n",
       "    <tr>\n",
       "      <th>2</th>\n",
       "      <td>2024-08-03</td>\n",
       "      <td>2024-09-22</td>\n",
       "    </tr>\n",
       "    <tr>\n",
       "      <th>3</th>\n",
       "      <td>2024-12-08</td>\n",
       "      <td>2024-04-17</td>\n",
       "    </tr>\n",
       "    <tr>\n",
       "      <th>4</th>\n",
       "      <td>2024-07-03</td>\n",
       "      <td>2024-10-05</td>\n",
       "    </tr>\n",
       "  </tbody>\n",
       "</table>\n",
       "</div>"
      ],
      "text/plain": [
       "  Date_Received Expiration_Date\n",
       "0    2024-08-16      2024-09-19\n",
       "1    2024-11-01      2024-05-08\n",
       "2    2024-08-03      2024-09-22\n",
       "3    2024-12-08      2024-04-17\n",
       "4    2024-07-03      2024-10-05"
      ]
     },
     "execution_count": 2,
     "metadata": {},
     "output_type": "execute_result"
    }
   ],
   "source": [
    "date_columns = [\"Date_Received\", \"Last_Order_Date\", \"Expiration_Date\"]\n",
    "for col in date_columns:\n",
    "    df[col] = pd.to_datetime(df[col], errors='coerce')\n",
    "df[[\"Date_Received\", \"Expiration_Date\"]].head()\n"
   ]
  },
  {
   "cell_type": "code",
   "execution_count": 3,
   "id": "0c23d7d5-0337-49c6-821d-604e18ab278e",
   "metadata": {},
   "outputs": [
    {
     "data": {
      "text/plain": [
       "count    990.000000\n",
       "mean       0.185859\n",
       "std      150.125993\n",
       "min     -365.000000\n",
       "25%     -106.750000\n",
       "50%       -1.500000\n",
       "75%      100.750000\n",
       "max      344.000000\n",
       "Name: days_to_expiry, dtype: float64"
      ]
     },
     "execution_count": 3,
     "metadata": {},
     "output_type": "execute_result"
    }
   ],
   "source": [
    "df[\"days_to_expiry\"] = (df[\"Expiration_Date\"] - df[\"Date_Received\"]).dt.days\n",
    "df[\"days_to_expiry\"].describe()\n"
   ]
  },
  {
   "cell_type": "code",
   "execution_count": 4,
   "id": "c9621171-5f91-482f-8b92-90cabca9aefb",
   "metadata": {},
   "outputs": [
    {
     "data": {
      "text/plain": [
       "0     4.5\n",
       "1    20.0\n",
       "2     6.0\n",
       "3     1.5\n",
       "4     4.0\n",
       "Name: Unit_Price, dtype: float64"
      ]
     },
     "execution_count": 4,
     "metadata": {},
     "output_type": "execute_result"
    }
   ],
   "source": [
    "df[\"Unit_Price\"] = df[\"Unit_Price\"].replace('[\\$,]', '', regex=True).astype(float)\n",
    "df[\"Unit_Price\"].head()\n"
   ]
  },
  {
   "cell_type": "code",
   "execution_count": 5,
   "id": "4f337726-90ad-4b2e-b01d-82bac512306d",
   "metadata": {},
   "outputs": [
    {
     "data": {
      "text/plain": [
       "Stock_Quantity             0\n",
       "Reorder_Level              0\n",
       "Reorder_Quantity           0\n",
       "Unit_Price                 0\n",
       "Sales_Volume               0\n",
       "Inventory_Turnover_Rate    0\n",
       "days_to_expiry             0\n",
       "dtype: int64"
      ]
     },
     "execution_count": 5,
     "metadata": {},
     "output_type": "execute_result"
    }
   ],
   "source": [
    "numerical_cols = [\"Stock_Quantity\", \"Reorder_Level\", \"Reorder_Quantity\",\n",
    "                  \"Unit_Price\", \"Sales_Volume\", \"Inventory_Turnover_Rate\", \"days_to_expiry\"]\n",
    "\n",
    "for col in numerical_cols:\n",
    "    if df[col].isnull().any():\n",
    "        df[col] = df[col].fillna(df[col].median())\n",
    "df[numerical_cols].isnull().sum()\n"
   ]
  },
  {
   "cell_type": "code",
   "execution_count": 6,
   "id": "46de478a-cda4-4463-bd5b-44ddb2ceaf7e",
   "metadata": {},
   "outputs": [
    {
     "data": {
      "text/plain": [
       "Status                0\n",
       "Catagory              0\n",
       "Product_Name          0\n",
       "Warehouse_Location    0\n",
       "dtype: int64"
      ]
     },
     "execution_count": 6,
     "metadata": {},
     "output_type": "execute_result"
    }
   ],
   "source": [
    "categorical_cols = [\"Status\", \"Catagory\", \"Product_Name\", \"Warehouse_Location\"]\n",
    "\n",
    "for col in categorical_cols:\n",
    "    if df[col].isnull().any():\n",
    "        df[col] = df[col].fillna(df[col].mode()[0])\n",
    "df[categorical_cols].isnull().sum()\n"
   ]
  },
  {
   "cell_type": "code",
   "execution_count": 7,
   "id": "68583cbd-5a83-47b5-9f7e-5b0481f77e5e",
   "metadata": {},
   "outputs": [
    {
     "data": {
      "text/html": [
       "<div>\n",
       "<style scoped>\n",
       "    .dataframe tbody tr th:only-of-type {\n",
       "        vertical-align: middle;\n",
       "    }\n",
       "\n",
       "    .dataframe tbody tr th {\n",
       "        vertical-align: top;\n",
       "    }\n",
       "\n",
       "    .dataframe thead th {\n",
       "        text-align: right;\n",
       "    }\n",
       "</style>\n",
       "<table border=\"1\" class=\"dataframe\">\n",
       "  <thead>\n",
       "    <tr style=\"text-align: right;\">\n",
       "      <th></th>\n",
       "      <th>Status</th>\n",
       "      <th>Status_encoded</th>\n",
       "      <th>Catagory</th>\n",
       "      <th>Catagory_encoded</th>\n",
       "    </tr>\n",
       "  </thead>\n",
       "  <tbody>\n",
       "    <tr>\n",
       "      <th>0</th>\n",
       "      <td>Discontinued</td>\n",
       "      <td>2</td>\n",
       "      <td>Grains &amp; Pulses</td>\n",
       "      <td>4</td>\n",
       "    </tr>\n",
       "    <tr>\n",
       "      <th>1</th>\n",
       "      <td>Discontinued</td>\n",
       "      <td>2</td>\n",
       "      <td>Beverages</td>\n",
       "      <td>1</td>\n",
       "    </tr>\n",
       "    <tr>\n",
       "      <th>2</th>\n",
       "      <td>Backordered</td>\n",
       "      <td>1</td>\n",
       "      <td>Grains &amp; Pulses</td>\n",
       "      <td>4</td>\n",
       "    </tr>\n",
       "    <tr>\n",
       "      <th>3</th>\n",
       "      <td>Active</td>\n",
       "      <td>0</td>\n",
       "      <td>Grains &amp; Pulses</td>\n",
       "      <td>4</td>\n",
       "    </tr>\n",
       "    <tr>\n",
       "      <th>4</th>\n",
       "      <td>Backordered</td>\n",
       "      <td>1</td>\n",
       "      <td>Fruits &amp; Vegetables</td>\n",
       "      <td>3</td>\n",
       "    </tr>\n",
       "  </tbody>\n",
       "</table>\n",
       "</div>"
      ],
      "text/plain": [
       "         Status  Status_encoded             Catagory  Catagory_encoded\n",
       "0  Discontinued               2      Grains & Pulses                 4\n",
       "1  Discontinued               2            Beverages                 1\n",
       "2   Backordered               1      Grains & Pulses                 4\n",
       "3        Active               0      Grains & Pulses                 4\n",
       "4   Backordered               1  Fruits & Vegetables                 3"
      ]
     },
     "execution_count": 7,
     "metadata": {},
     "output_type": "execute_result"
    }
   ],
   "source": [
    "df[\"Status_encoded\"] = df[\"Status\"].astype(\"category\").cat.codes\n",
    "df[\"Catagory_encoded\"] = df[\"Catagory\"].astype(\"category\").cat.codes\n",
    "df[[\"Status\", \"Status_encoded\", \"Catagory\", \"Catagory_encoded\"]].head()\n"
   ]
  },
  {
   "cell_type": "code",
   "execution_count": 8,
   "id": "712f37ee-b18f-4862-bdae-665d1ba1da75",
   "metadata": {},
   "outputs": [
    {
     "data": {
      "text/plain": [
       "0"
      ]
     },
     "execution_count": 8,
     "metadata": {},
     "output_type": "execute_result"
    }
   ],
   "source": [
    "drop_cols = [\"Product_ID\", \"Product_Name\", \"Supplier_ID\", \"Supplier_Name\",\n",
    "             \"Warehouse_Location\", \"Date_Received\", \"Expiration_Date\",\n",
    "             \"Last_Order_Date\", \"Status\", \"Catagory\"]\n",
    "\n",
    "df_clean = df.drop(columns=drop_cols)\n",
    "df_clean = df_clean[df_clean[\"days_to_expiry\"] >= 0]\n",
    "df_clean[\"days_to_expiry\"].min()\n"
   ]
  },
  {
   "cell_type": "code",
   "execution_count": 9,
   "id": "b7d8042f-8155-4f9a-b686-079ae37d186d",
   "metadata": {},
   "outputs": [
    {
     "data": {
      "text/html": [
       "<div>\n",
       "<style scoped>\n",
       "    .dataframe tbody tr th:only-of-type {\n",
       "        vertical-align: middle;\n",
       "    }\n",
       "\n",
       "    .dataframe tbody tr th {\n",
       "        vertical-align: top;\n",
       "    }\n",
       "\n",
       "    .dataframe thead th {\n",
       "        text-align: right;\n",
       "    }\n",
       "</style>\n",
       "<table border=\"1\" class=\"dataframe\">\n",
       "  <thead>\n",
       "    <tr style=\"text-align: right;\">\n",
       "      <th></th>\n",
       "      <th>Unit_Price</th>\n",
       "      <th>Sales_Volume</th>\n",
       "      <th>Inventory_Turnover_Rate</th>\n",
       "      <th>days_to_expiry</th>\n",
       "    </tr>\n",
       "  </thead>\n",
       "  <tbody>\n",
       "    <tr>\n",
       "      <th>count</th>\n",
       "      <td>462.000000</td>\n",
       "      <td>462.000000</td>\n",
       "      <td>462.000000</td>\n",
       "      <td>462.000000</td>\n",
       "    </tr>\n",
       "    <tr>\n",
       "      <th>mean</th>\n",
       "      <td>4.493398</td>\n",
       "      <td>59.352814</td>\n",
       "      <td>50.712121</td>\n",
       "      <td>120.352814</td>\n",
       "    </tr>\n",
       "    <tr>\n",
       "      <th>std</th>\n",
       "      <td>2.619244</td>\n",
       "      <td>22.726302</td>\n",
       "      <td>28.953202</td>\n",
       "      <td>87.085610</td>\n",
       "    </tr>\n",
       "    <tr>\n",
       "      <th>min</th>\n",
       "      <td>0.200000</td>\n",
       "      <td>20.000000</td>\n",
       "      <td>1.000000</td>\n",
       "      <td>0.000000</td>\n",
       "    </tr>\n",
       "    <tr>\n",
       "      <th>25%</th>\n",
       "      <td>2.500000</td>\n",
       "      <td>41.000000</td>\n",
       "      <td>24.250000</td>\n",
       "      <td>49.000000</td>\n",
       "    </tr>\n",
       "    <tr>\n",
       "      <th>50%</th>\n",
       "      <td>4.000000</td>\n",
       "      <td>58.000000</td>\n",
       "      <td>52.000000</td>\n",
       "      <td>98.000000</td>\n",
       "    </tr>\n",
       "    <tr>\n",
       "      <th>75%</th>\n",
       "      <td>6.000000</td>\n",
       "      <td>80.000000</td>\n",
       "      <td>75.000000</td>\n",
       "      <td>189.000000</td>\n",
       "    </tr>\n",
       "    <tr>\n",
       "      <th>max</th>\n",
       "      <td>12.000000</td>\n",
       "      <td>100.000000</td>\n",
       "      <td>100.000000</td>\n",
       "      <td>344.000000</td>\n",
       "    </tr>\n",
       "  </tbody>\n",
       "</table>\n",
       "</div>"
      ],
      "text/plain": [
       "       Unit_Price  Sales_Volume  Inventory_Turnover_Rate  days_to_expiry\n",
       "count  462.000000    462.000000               462.000000      462.000000\n",
       "mean     4.493398     59.352814                50.712121      120.352814\n",
       "std      2.619244     22.726302                28.953202       87.085610\n",
       "min      0.200000     20.000000                 1.000000        0.000000\n",
       "25%      2.500000     41.000000                24.250000       49.000000\n",
       "50%      4.000000     58.000000                52.000000       98.000000\n",
       "75%      6.000000     80.000000                75.000000      189.000000\n",
       "max     12.000000    100.000000               100.000000      344.000000"
      ]
     },
     "execution_count": 9,
     "metadata": {},
     "output_type": "execute_result"
    }
   ],
   "source": [
    "def remove_outliers_iqr(df, column):\n",
    "    Q1 = df[column].quantile(0.25)\n",
    "    Q3 = df[column].quantile(0.75)\n",
    "    IQR = Q3 - Q1\n",
    "    lower = Q1 - 1.5 * IQR\n",
    "    upper = Q3 + 1.5 * IQR\n",
    "    return df[(df[column] >= lower) & (df[column] <= upper)]\n",
    "\n",
    "outlier_columns = [\"Unit_Price\", \"Sales_Volume\", \"Inventory_Turnover_Rate\", \"days_to_expiry\"]\n",
    "for col in outlier_columns:\n",
    "    df_clean = remove_outliers_iqr(df_clean, col)\n",
    "df_clean[outlier_columns].describe()\n"
   ]
  },
  {
   "cell_type": "code",
   "execution_count": 10,
   "id": "6a124599-bb13-47f2-bd0b-56329aa52f8e",
   "metadata": {},
   "outputs": [
    {
     "name": "stdout",
     "output_type": "stream",
     "text": [
      "Stock_Quantity             0\n",
      "Reorder_Level              0\n",
      "Reorder_Quantity           0\n",
      "Unit_Price                 0\n",
      "Sales_Volume               0\n",
      "Inventory_Turnover_Rate    0\n",
      "days_to_expiry             0\n",
      "Status_encoded             0\n",
      "Catagory_encoded           0\n",
      "dtype: int64\n"
     ]
    }
   ],
   "source": [
    "print(df_clean.isnull().sum())\n",
    "df_clean.to_csv(\"final_cleaned_data.csv\", index=False)\n"
   ]
  },
  {
   "cell_type": "code",
   "execution_count": 11,
   "id": "c359c504-ac63-480b-9928-56fe72d7b504",
   "metadata": {},
   "outputs": [],
   "source": [
    "# feature engineering ka code starts here"
   ]
  },
  {
   "cell_type": "code",
   "execution_count": 12,
   "id": "98580f9e-7023-4d1f-aa6a-b1b920d7c6f3",
   "metadata": {},
   "outputs": [],
   "source": [
    "# Function to return discount factor based on days to expiry\n",
    "def expiry_discount(days_left):\n",
    "    if days_left <= 3:\n",
    "        return 0.5    # 50% discount\n",
    "    elif days_left <= 7:\n",
    "        return 0.7    # 30% discount\n",
    "    elif days_left <= 14:\n",
    "        return 0.85   # 15% discount\n",
    "    elif days_left <= 30:\n",
    "        return 0.95   # 5% discount\n",
    "    else:\n",
    "        return 1.0    # No discount\n",
    "# Function to calculate dynamic price based on expiry and sales performance\n",
    "def dynamic_final_price(row):\n",
    "    # Step 1: Get expiry factor\n",
    "    expiry_factor = expiry_discount(row['days_to_expiry'])\n",
    "\n",
    "    # Step 2: Adjust based on Sales Volume\n",
    "    median_sales = df_clean['Sales_Volume'].median()\n",
    "    \n",
    "    if row['Sales_Volume'] > median_sales:\n",
    "        expiry_factor *= 1.1  # Product is selling fast, reduce discount\n",
    "    else:\n",
    "        expiry_factor *= 0.9  # Product is slow-selling, increase discount\n",
    "\n",
    "    expiry_factor = min(expiry_factor, 1.0)  # cap it at 1.0 (never increase price above original)\n",
    "\n",
    "    # Step 3: Calculate final predicted price\n",
    "    return row['Unit_Price'] * expiry_factor\n",
    "df_clean['Final_Price'] = df_clean.apply(dynamic_final_price, axis=1)\n",
    "df_clean[['Unit_Price', 'days_to_expiry', 'Sales_Volume', 'Final_Price']].head(10)\n",
    "for col in outlier_columns:\n",
    "    df_clean = remove_outliers_iqr(df_clean, col)\n"
   ]
  },
  {
   "cell_type": "code",
   "execution_count": 13,
   "id": "8bb6e460-f73a-4dea-b008-fa025285d80a",
   "metadata": {},
   "outputs": [],
   "source": [
    "# Save the new feature engineered dataset\n",
    "df_clean.to_csv(\"Grocery_Feature_Engineered.csv\", index=False)\n"
   ]
  },
  {
   "cell_type": "code",
   "execution_count": 14,
   "id": "41eeab53-c841-49ab-a828-c12c7d990202",
   "metadata": {},
   "outputs": [],
   "source": [
    "# feature engineering done and data saved in grocery feature engineered"
   ]
  },
  {
   "cell_type": "code",
   "execution_count": 15,
   "id": "9d0ef75b-d0d6-4864-900d-cbf1a6912d0e",
   "metadata": {},
   "outputs": [
    {
     "data": {
      "text/plain": [
       "'C:\\\\Users\\\\Diya arora\\\\Desktop'"
      ]
     },
     "execution_count": 15,
     "metadata": {},
     "output_type": "execute_result"
    }
   ],
   "source": [
    "import os\n",
    "os.getcwd()\n"
   ]
  },
  {
   "cell_type": "code",
   "execution_count": null,
   "id": "b9fdeaff-bc07-4044-8e36-8d42bdf806ba",
   "metadata": {},
   "outputs": [],
   "source": []
  }
 ],
 "metadata": {
  "kernelspec": {
   "display_name": "Python 3 (ipykernel)",
   "language": "python",
   "name": "python3"
  },
  "language_info": {
   "codemirror_mode": {
    "name": "ipython",
    "version": 3
   },
   "file_extension": ".py",
   "mimetype": "text/x-python",
   "name": "python",
   "nbconvert_exporter": "python",
   "pygments_lexer": "ipython3",
   "version": "3.13.5"
  }
 },
 "nbformat": 4,
 "nbformat_minor": 5
}
